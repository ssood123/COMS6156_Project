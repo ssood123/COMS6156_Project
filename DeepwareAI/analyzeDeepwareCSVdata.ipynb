{
  "nbformat": 4,
  "nbformat_minor": 0,
  "metadata": {
    "colab": {
      "name": "analyzeDeepwareCSVdata.ipynb",
      "provenance": [],
      "collapsed_sections": []
    },
    "kernelspec": {
      "name": "python3",
      "display_name": "Python 3"
    },
    "language_info": {
      "name": "python"
    }
  },
  "cells": [
    {
      "cell_type": "code",
      "execution_count": null,
      "metadata": {
        "id": "Jypn6EfoWa0q"
      },
      "outputs": [],
      "source": [
        "from tabulate import tabulate\n",
        "import csv"
      ]
    },
    {
      "cell_type": "code",
      "source": [
        "realHigh = 0\n",
        "realMedium = 0\n",
        "realLow = 0\n",
        "fakeLow = 0\n",
        "fakeMedium = 0\n",
        "fakeHigh = 0\n",
        "\n",
        "file = open('results.csv')\n",
        "lines = file.readlines()\n",
        "for line in lines:\n",
        "  if 'filename' not in line:\n",
        "    tempStr = line.split(',')[1][0:6]\n",
        "    tempValue = float(tempStr)\n",
        "    if tempValue >= 0 and tempValue <= 5/30:\n",
        "      realHigh += 1\n",
        "    elif tempValue > 5/30 and tempValue <= 10/30:\n",
        "      realMedium += 1\n",
        "    elif tempValue > 10/30 and tempValue <= 15/30:\n",
        "      realLow += 1\n",
        "    elif tempValue > 15/30 and tempValue <= 20/30:\n",
        "      fakeLow += 1\n",
        "    elif tempValue > 20/30 and tempValue <= 25/30:\n",
        "      fakeMedium += 1\n",
        "    elif tempValue > 25/30 and tempValue <= 30/30:\n",
        "      fakeHigh += 1\n",
        "\n",
        "\n",
        "totalVideos = fakeLow + fakeMedium + fakeHigh + realLow + realMedium + realHigh  "
      ],
      "metadata": {
        "id": "qByJ8K1GW2O8"
      },
      "execution_count": null,
      "outputs": []
    },
    {
      "cell_type": "code",
      "source": [
        "fakeHighPercent = str(round(fakeHigh/totalVideos*100,2)) + '%'\n",
        "fakeMediumPercent = str(round(fakeMedium/totalVideos*100,2))+'%'\n",
        "fakeLowPercent = str(round(fakeLow/totalVideos*100,2))+'%'\n",
        "realLowPercent = str(round(realLow/totalVideos*100,2))+'%'\n",
        "realMediumPercent = str(round(realMedium/totalVideos*100,2))+'%'\n",
        "realHighPercent = str(round(realHigh/totalVideos*100,2))+'%'\n",
        "\n",
        "table1 = [['Category','Number of images in this category','total number of images','percent of total'],\n",
        "          ['fake with high confidence',fakeHigh,totalVideos,fakeHighPercent],\n",
        "          ['fake with medium confidence', fakeMedium, totalVideos, fakeMediumPercent],\n",
        "          ['fake with low confidence', fakeLow, totalVideos, fakeLowPercent],\n",
        "          ['real with low confidence', realLow, totalVideos, realLowPercent],\n",
        "          ['real with medium confidence', realMedium, totalVideos, realMediumPercent],\n",
        "          ['real with high confidence', realHigh, totalVideos, realHighPercent]]\n",
        "print(tabulate(table1,headers='firstrow',tablefmt='fancy_grid'))\n",
        "\n",
        "\n",
        "#Predicted labels\n",
        "fakeTotal = fakeLow+fakeMedium+fakeHigh\n",
        "realTotal = realLow+realMedium+realHigh\n",
        "\n",
        "FakePercent = str(round(fakeTotal/totalVideos*100,2))+'%'\n",
        "RealPercent = str(round(realTotal/totalVideos*100,2))+'%'\n",
        "\n",
        "table2 = [['Predicted Label','Number of Images for this label','Total number of Images','Percent of total'],\n",
        "         ['Real', realTotal, totalVideos, RealPercent],\n",
        "         ['Fake', fakeTotal, totalVideos, FakePercent]]\n",
        "print(tabulate(table2,headers='firstrow',tablefmt='fancy_grid'))\n",
        "\n",
        "\n",
        "#Confidences\n",
        "lowConfidence = fakeLow + realLow\n",
        "mediumConfidence = fakeMedium + realMedium\n",
        "highConfidence = fakeHigh + realHigh\n",
        "\n",
        "lowConfidencePercent = str(round(lowConfidence/totalVideos*100,2))+'%'\n",
        "mediumConfidencePercent = str(round(mediumConfidence/totalVideos*100,2))+'%'\n",
        "highConfidencePercent = str(round(highConfidence/totalVideos*100,2))+'%'\n",
        "\n",
        "table3 = [['Confidence', 'Number of images for this confidence interval', 'total number of images', 'percent of total'],\n",
        "          ['low confidence', lowConfidence, totalVideos, lowConfidencePercent],\n",
        "          ['medium confidence', mediumConfidence, totalVideos, mediumConfidencePercent],\n",
        "          ['high confidence', highConfidence, totalVideos, highConfidencePercent]]\n",
        "print(tabulate(table3,headers='firstrow',tablefmt='fancy_grid'))"
      ],
      "metadata": {
        "id": "s09wkt9SZoWI"
      },
      "execution_count": null,
      "outputs": []
    }
  ]
}