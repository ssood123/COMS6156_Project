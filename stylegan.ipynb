{
  "cells": [
    {
      "cell_type": "markdown",
      "metadata": {
        "id": "L2fejML3tCfv"
      },
      "source": [
        "<a href=\"https://colab.research.google.com/github/jeffheaton/present/blob/master/youtube/gan_explore.ipynb\" target=\"_parent\"><img src=\"https://colab.research.google.com/assets/colab-badge.svg\" alt=\"Open In Colab\"/></a>"
      ]
    },
    {
      "cell_type": "code",
      "execution_count": null,
      "metadata": {
        "colab": {
          "base_uri": "https://localhost:8080/"
        },
        "id": "w2dEcHb9tCf6",
        "outputId": "5409358d-774f-4799-cec0-44fa0945f1ec"
      },
      "outputs": [
        {
          "output_type": "stream",
          "name": "stdout",
          "text": [
            "TensorFlow 1.x selected.\n",
            "Mounted at /content/drive\n"
          ]
        }
      ],
      "source": [
        "# Run this for Google CoLab (use TensorFlow 1.x)\n",
        "%tensorflow_version 1.x\n",
        "from google.colab import drive\n",
        "drive.mount('/content/drive', force_remount=True)"
      ]
    },
    {
      "cell_type": "markdown",
      "metadata": {
        "id": "icRPLmPKtCf_"
      },
      "source": [
        "Next, clone StyleGAN2 from GitHub."
      ]
    },
    {
      "cell_type": "code",
      "execution_count": null,
      "metadata": {
        "colab": {
          "base_uri": "https://localhost:8080/"
        },
        "id": "tB0TryzptCf_",
        "outputId": "b617acc3-4f1f-43dc-91ec-23526f1aacfc"
      },
      "outputs": [
        {
          "output_type": "stream",
          "name": "stdout",
          "text": [
            "Cloning into 'stylegan2'...\n",
            "remote: Enumerating objects: 138, done.\u001b[K\n",
            "remote: Counting objects: 100% (11/11), done.\u001b[K\n",
            "remote: Compressing objects: 100% (8/8), done.\u001b[K\n",
            "remote: Total 138 (delta 4), reused 4 (delta 3), pack-reused 127\u001b[K\n",
            "Receiving objects: 100% (138/138), 599.46 KiB | 5.08 MiB/s, done.\n",
            "Resolving deltas: 100% (62/62), done.\n"
          ]
        }
      ],
      "source": [
        "!git clone https://github.com/NVlabs/stylegan2.git"
      ]
    },
    {
      "cell_type": "markdown",
      "metadata": {
        "id": "s1Sh0xmOtCgC"
      },
      "source": [
        "Verify that StyleGAN has been cloned."
      ]
    },
    {
      "cell_type": "code",
      "execution_count": null,
      "metadata": {
        "colab": {
          "base_uri": "https://localhost:8080/"
        },
        "id": "wewBEme5tCgD",
        "outputId": "bbe0a7dc-dcb2-463c-cdcc-f025b54faa15"
      },
      "outputs": [
        {
          "output_type": "stream",
          "name": "stdout",
          "text": [
            "dataset_tool.py  LICENSE.txt\t\t README.md\t   run_training.py\n",
            "dnnlib\t\t metrics\t\t run_generator.py  test_nvcc.cu\n",
            "Dockerfile\t pretrained_networks.py  run_metrics.py    training\n",
            "docs\t\t projector.py\t\t run_projector.py\n"
          ]
        }
      ],
      "source": [
        "!ls /content/stylegan2/"
      ]
    },
    {
      "cell_type": "markdown",
      "metadata": {
        "id": "D92Md-Hw3eVA"
      },
      "source": [
        "# Run StyleGAN2 From Python Code\n",
        "\n",
        "Add the StyleGAN folder to Python so that you can import it.  The code below is based on code from NVidia. This actually generates your images."
      ]
    },
    {
      "cell_type": "code",
      "execution_count": null,
      "metadata": {
        "id": "UgMm1sSutCgH"
      },
      "outputs": [],
      "source": [
        "import sys\n",
        "sys.path.insert(0, \"/content/stylegan2\")\n",
        "\n",
        "import dnnlib"
      ]
    },
    {
      "cell_type": "code",
      "execution_count": null,
      "metadata": {
        "id": "yZcFAjaz3mw1"
      },
      "outputs": [],
      "source": [
        "# Copyright (c) 2019, NVIDIA Corporation. All rights reserved.\n",
        "#\n",
        "# This work is made available under the Nvidia Source Code License-NC.\n",
        "# To view a copy of this license, visit\n",
        "# https://nvlabs.github.io/stylegan2/license.html\n",
        "\n",
        "import argparse\n",
        "import numpy as np\n",
        "import PIL.Image\n",
        "import dnnlib\n",
        "import dnnlib.tflib as tflib\n",
        "import re\n",
        "import sys\n",
        "\n",
        "import pretrained_networks\n",
        "\n",
        "#----------------------------------------------------------------------------\n",
        "\n",
        "def expand_seed(seeds, vector_size):\n",
        "  result = []\n",
        "\n",
        "  for seed in seeds:\n",
        "    rnd = np.random.RandomState(seed)\n",
        "    result.append( rnd.randn(1, vector_size) ) \n",
        "  return result\n",
        "\n",
        "def generate_images(Gs, seeds, truncation_psi, prefix):\n",
        "    noise_vars = [var for name, var in Gs.components.synthesis.vars.items() if name.startswith('noise')]\n",
        "\n",
        "    Gs_kwargs = dnnlib.EasyDict()\n",
        "    Gs_kwargs.output_transform = dict(func=tflib.convert_images_to_uint8, nchw_to_nhwc=True)\n",
        "    Gs_kwargs.randomize_noise = False\n",
        "    if truncation_psi is not None:\n",
        "        Gs_kwargs.truncation_psi = truncation_psi\n",
        "\n",
        "    for seed_idx, seed in enumerate(seeds):\n",
        "        print('Generating image for seed %d/%d ...' % (seed_idx, len(seeds)))\n",
        "        rnd = np.random.RandomState(0)\n",
        "        tflib.set_vars({var: rnd.randn(*var.shape.as_list()) for var in noise_vars}) # [height, width]\n",
        "        images = Gs.run(seed, None, **Gs_kwargs) # [minibatch, height, width, channel]\n",
        "        path = f\"/content/{prefix}-{seed_idx+1}.png\"\n",
        "        PIL.Image.fromarray(images[0], 'RGB').save(path)\n"
      ]
    },
    {
      "cell_type": "code",
      "execution_count": null,
      "metadata": {
        "colab": {
          "base_uri": "https://localhost:8080/"
        },
        "id": "UnxjKdsJKXE5",
        "outputId": "d1a0bacf-3b10-4545-aaf9-7907a395dea3"
      },
      "outputs": [
        {
          "output_type": "stream",
          "name": "stdout",
          "text": [
            "Loading networks from \"gdrive:networks/stylegan2-ffhq-config-f.pkl\"...\n",
            "Downloading https://nvlabs-fi-cdn.nvidia.com/stylegan2/networks/stylegan2-ffhq-config-f.pkl ... done\n",
            "Setting up TensorFlow plugin \"fused_bias_act.cu\": Preprocessing... Compiling... Loading... Done.\n",
            "Setting up TensorFlow plugin \"upfirdn_2d.cu\": Preprocessing... Compiling... Loading... Done.\n"
          ]
        }
      ],
      "source": [
        "sc = dnnlib.SubmitConfig()\n",
        "sc.num_gpus = 1\n",
        "sc.submit_target = dnnlib.SubmitTarget.LOCAL\n",
        "sc.local.do_not_copy_source_files = True\n",
        "sc.run_dir_root = \"/content/drive/My Drive/projects/stylegan2\"\n",
        "sc.run_desc = 'generate-images'\n",
        "network_pkl = 'gdrive:networks/stylegan2-ffhq-config-f.pkl'\n",
        "\n",
        "print('Loading networks from \"%s\"...' % network_pkl)\n",
        "_G, _D, Gs = pretrained_networks.load_networks(network_pkl)\n",
        "vector_size = Gs.input_shape[1:][0]"
      ]
    },
    {
      "cell_type": "markdown",
      "metadata": {
        "id": "3Mma51xe6b7k"
      },
      "source": [
        "# Explore Many GANs\n",
        "\n",
        "The first thing I did was generate many different GAN's randomly.  I am going to choose from those to find ones with the traits that I am looking for."
      ]
    },
    {
      "cell_type": "code",
      "execution_count": null,
      "metadata": {
        "id": "BRdAnScjJ6kO"
      },
      "outputs": [],
      "source": [
        "import cv2 \n",
        "from google.colab.patches import cv2_imshow\n",
        "\n",
        "# 8227\n",
        "for i in range(100):\n",
        "  z = 9200+i\n",
        "  print(z)\n",
        "  seeds = expand_seed([z], vector_size)\n",
        "  generate_images(Gs, seeds, 0.5, \"image\")\n",
        "  img = cv2.imread('/content/image-1.png')   \n",
        "  cv2_imshow(img) "
      ]
    },
    {
      "cell_type": "markdown",
      "metadata": {
        "id": "mujfKN9nRA4E"
      },
      "source": [
        "# Modify Single GAN\n",
        "\n",
        "This section I used mainly to generate the art for the Kaggle.  I wanted to see if I could generate the same person both with and without glasses.  I modified the latent vector until I was able to see the glasses vanish.  Then I minimized the change to the vector until the glasses returned."
      ]
    },
    {
      "cell_type": "code",
      "execution_count": null,
      "metadata": {
        "id": "4-J1eTJwRlY8"
      },
      "outputs": [],
      "source": [
        "import cv2 \n",
        "from google.colab.patches import cv2_imshow\n",
        "\n",
        "seeds = expand_seed([9220], vector_size)\n",
        "\n",
        "generate_images(Gs, seeds, 0.5, \"image\")\n",
        "img = cv2.imread('/content/image-1.png')   \n",
        "cv2_imshow(img) "
      ]
    },
    {
      "cell_type": "markdown",
      "metadata": {
        "id": "fhupoEodF9gS"
      },
      "source": [
        "# Explore Elements of Vector\n",
        "\n",
        "This section of code let me explore 10-block sections of the latent vector looking for what part might affect the attribute I desire."
      ]
    },
    {
      "cell_type": "code",
      "execution_count": null,
      "metadata": {
        "id": "nJP9Mff_OQQ9"
      },
      "outputs": [],
      "source": [
        "import cv2 \n",
        "from google.colab.patches import cv2_imshow\n",
        "\n",
        "i = 0\n",
        "\n",
        "while i<500:\n",
        "  seeds = expand_seed([9223], vector_size)\n",
        "  seeds[0][0][i:i+10] = -2\n",
        "  print(i)\n",
        "  generate_images(Gs, seeds, 0.5, \"image\")\n",
        "  img = cv2.imread('/content/image-1.png')   \n",
        "  cv2_imshow(img) \n",
        "  i+=10"
      ]
    },
    {
      "cell_type": "code",
      "execution_count": null,
      "metadata": {
        "id": "Ddn3LcRFRalk"
      },
      "outputs": [],
      "source": [
        "import cv2 \n",
        "from google.colab.patches import cv2_imshow\n",
        "\n",
        "i = 0\n",
        "\n",
        "seeds = expand_seed([9223], vector_size)\n",
        "#seeds[0][0][410] = -2\n",
        "#seeds[0][0][411] = -2\n",
        "seeds[0][0][412] = -2\n",
        "#seeds[0][0][413] = -2\n",
        "seeds[0][0][414] = -2\n",
        "#seeds[0][0][415] = -2\n",
        "#seeds[0][0][416] = -2\n",
        "#seeds[0][0][417] = -2\n",
        "seeds[0][0][418] -= 1.3\n",
        "#seeds[0][0][419] = -2\n",
        "print(i)\n",
        "generate_images(Gs, seeds, 0.5, \"image\")\n",
        "img = cv2.imread('/content/image-1.png')   \n",
        "cv2_imshow(img) \n",
        "i+=1"
      ]
    },
    {
      "cell_type": "markdown",
      "metadata": {
        "id": "tFSNStt1Zm4V"
      },
      "source": [
        "# What is an Image??"
      ]
    },
    {
      "cell_type": "code",
      "execution_count": null,
      "metadata": {
        "colab": {
          "base_uri": "https://localhost:8080/",
          "height": 84
        },
        "id": "YpCPDDnr_Oxj",
        "outputId": "31542b67-00d8-4035-fb8d-708d8b453edf"
      },
      "outputs": [
        {
          "name": "stdout",
          "output_type": "stream",
          "text": [
            "Loading networks from \"gdrive:networks/stylegan2-ffhq-config-f.pkl\"...\n",
            "Downloading http://d36zk2xti64re0.cloudfront.net/stylegan2/networks/stylegan2-ffhq-config-f.pkl ... done\n",
            "Setting up TensorFlow plugin \"fused_bias_act.cu\": Preprocessing... Compiling... Loading... Done.\n",
            "Setting up TensorFlow plugin \"upfirdn_2d.cu\": Preprocessing... Compiling... Loading... Done.\n"
          ]
        }
      ],
      "source": [
        "sc = dnnlib.SubmitConfig()\n",
        "sc.num_gpus = 1\n",
        "sc.submit_target = dnnlib.SubmitTarget.LOCAL\n",
        "sc.local.do_not_copy_source_files = True\n",
        "sc.run_dir_root = \"/content/drive/My Drive/projects/stylegan2\"\n",
        "sc.run_desc = 'generate-images'\n",
        "network_pkl = 'gdrive:networks/stylegan2-ffhq-config-f.pkl'\n",
        "\n",
        "print('Loading networks from \"%s\"...' % network_pkl)\n",
        "_G, _D, Gs = pretrained_networks.load_networks(network_pkl)\n",
        "vector_size = Gs.input_shape[1:][0]"
      ]
    },
    {
      "cell_type": "code",
      "execution_count": null,
      "metadata": {
        "id": "tM86fWGcZlwJ"
      },
      "outputs": [],
      "source": [
        "GLASSES = [2,3,17,19,26,40,42,50,44,65,68,70,85,90,96,112,\n",
        "  130,139,140,146,147,152,155,164,176,183,194,198,209,214,215,241,244,245,254,260,\n",
        "  267,296,300,312,313,322,324,331,333,346,361,366,386,401,412,422,425,443,448,472,\n",
        "  487,494,501,516,544,545,551,552,565,568,591,594,595,597,607,610,639,640,669,670,\n",
        "  675,682,703,710,719,730,757,764,765,767,777,780,792,798,799,802,808,812,819,823,\n",
        "  837,857,866,870,881,887,893,894,895,899,915,916,934,936,941,973,979,988,991,993]\n",
        "\n",
        "NO_GLASSES = [x for x in range(1000) if x not in GLASSES]"
      ]
    },
    {
      "cell_type": "code",
      "execution_count": null,
      "metadata": {
        "id": "g0aNexJ7dg6q"
      },
      "outputs": [],
      "source": [
        "import random\n",
        "import pandas as pd\n",
        "\n",
        "GEN_SET = GLASSES\n",
        "\n",
        "def generate_set(GEN_SET, count):\n",
        "  seeds3 = []\n",
        "\n",
        "  for i in range(count):\n",
        "    i1 = random.randint(0,len(GEN_SET)-1)\n",
        "    i2 = random.randint(0,len(GEN_SET)-1)\n",
        "    seeds1 = expand_seed([GEN_SET[i1]],vector_size)\n",
        "    seeds2 = expand_seed([GEN_SET[i2]],vector_size)\n",
        "    seeds = [seeds1[0][0], seeds2[0][0]]\n",
        "\n",
        "    diff = seeds[1] - seeds[0]\n",
        "    delta = (np.random.rand(512) * 0.6) + .2\n",
        "    step = diff * delta\n",
        "    current = [seeds[0].copy()]\n",
        "    current += step\n",
        "    current = np.round(current,5)\n",
        "    seeds3.append(current)\n",
        "\n",
        "  seeds4 = [x[0] for x in seeds3]\n",
        "  seeds4 = np.array(seeds4)\n",
        "  return pd.DataFrame(seeds4)\n",
        "\n",
        "\n",
        "\n",
        "#generate_images(Gs, seeds3,0.5,'glasses')\n",
        "\n",
        "df1 = generate_set(GLASSES, int(5000 * .64))\n",
        "df1['glasses'] = 1\n",
        "df2 = generate_set(NO_GLASSES, int(5000 * .36))\n",
        "df2['glasses'] = 0"
      ]
    },
    {
      "cell_type": "code",
      "execution_count": null,
      "metadata": {
        "id": "7OJB8xaDP3Cz"
      },
      "outputs": [],
      "source": [
        "df = pd.concat([df1,df2],ignore_index=True)"
      ]
    },
    {
      "cell_type": "code",
      "execution_count": null,
      "metadata": {
        "id": "gua5CgfSvtoJ"
      },
      "outputs": [],
      "source": [
        "v_cols2 = [f'v{i+1}' for i in range(512)]\n",
        "cols2 = v_cols2.copy()\n",
        "cols2.append('glasses')\n",
        "df.columns = cols2\n",
        "df = df.reindex(np.random.permutation(df.index))\n",
        "df.insert(0, 'id', range(1,len(df)+1))"
      ]
    },
    {
      "cell_type": "code",
      "execution_count": null,
      "metadata": {
        "id": "Ayo_-tiuVXpW"
      },
      "outputs": [],
      "source": [
        "l = len(df)\n",
        "sz = int(l*.9)\n",
        "df_train = df[0:sz].copy()\n",
        "df_test = df[sz:].copy()\n",
        "df_test.drop('glasses',axis=1,inplace=True)\n",
        "df_solution = df[sz:].copy()\n",
        "df_sample = df_test.copy()\n",
        "df_sample['glasses'] = 0.64"
      ]
    },
    {
      "cell_type": "code",
      "execution_count": null,
      "metadata": {
        "id": "XIzP-YoXL7OQ"
      },
      "outputs": [],
      "source": [
        "df_train.to_csv('/content/train.csv',index=False)\n",
        "df_test.to_csv('/content/test.csv',index=False)\n",
        "df_solution.to_csv('/content/solution.csv',index=False)\n",
        "df_sample.to_csv('/content/sample.csv',index=False)\n"
      ]
    },
    {
      "cell_type": "markdown",
      "metadata": {
        "id": "zLUU78QHscjj"
      },
      "source": [
        "# Build Images"
      ]
    },
    {
      "cell_type": "code",
      "execution_count": null,
      "metadata": {
        "colab": {
          "base_uri": "https://localhost:8080/",
          "height": 34
        },
        "id": "jNx9GWelxKd4",
        "outputId": "5bd3e6a9-6ad6-4a32-9b14-e3d82e6754eb"
      },
      "outputs": [
        {
          "data": {
            "text/plain": [
              "(5000, 514)"
            ]
          },
          "execution_count": 15,
          "metadata": {
            "tags": []
          },
          "output_type": "execute_result"
        }
      ],
      "source": [
        "df.shape"
      ]
    },
    {
      "cell_type": "code",
      "execution_count": null,
      "metadata": {
        "id": "TgPfMRgHsf-B"
      },
      "outputs": [],
      "source": [
        "seeds = df[v_cols2].values\n",
        "seeds = [x.reshape([1,512]) for x in seeds]\n",
        "generate_images(Gs, seeds,0.5,\"face\")"
      ]
    },
    {
      "cell_type": "code",
      "execution_count": null,
      "metadata": {
        "id": "6FjLp4_zx6ss"
      },
      "outputs": [],
      "source": [
        ""
      ]
    },
    {
      "cell_type": "code",
      "execution_count": null,
      "metadata": {
        "id": "6Pfymq3qqFEI"
      },
      "outputs": [],
      "source": [
        "!zip /content/drive/My\\ Drive/projects/images.zip /content/*"
      ]
    },
    {
      "cell_type": "code",
      "execution_count": null,
      "metadata": {
        "id": "3z9moYJdubBI"
      },
      "outputs": [],
      "source": [
        "!ls -l /content/drive/My\\ Drive/projects/images.zip"
      ]
    },
    {
      "cell_type": "code",
      "execution_count": null,
      "metadata": {
        "id": "kQtx878lPi7n"
      },
      "outputs": [],
      "source": [
        "!ls -l /content/*.csv"
      ]
    }
  ],
  "metadata": {
    "accelerator": "GPU",
    "anaconda-cloud": {},
    "colab": {
      "collapsed_sections": [],
      "name": "stylegan.ipynb",
      "provenance": []
    },
    "kernelspec": {
      "display_name": "Python 3.7 (tensorflow)",
      "language": "python",
      "name": "tensorflow"
    },
    "language_info": {
      "codemirror_mode": {
        "name": "ipython",
        "version": 3
      },
      "file_extension": ".py",
      "mimetype": "text/x-python",
      "name": "python",
      "nbconvert_exporter": "python",
      "pygments_lexer": "ipython3",
      "version": "3.7.5"
    }
  },
  "nbformat": 4,
  "nbformat_minor": 0
}